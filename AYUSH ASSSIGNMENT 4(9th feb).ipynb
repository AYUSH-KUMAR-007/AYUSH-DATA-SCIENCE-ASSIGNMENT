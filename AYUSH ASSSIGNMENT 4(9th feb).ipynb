{
 "cells": [
  {
   "cell_type": "code",
   "execution_count": 1,
   "id": "9a7b3723-7e45-4450-90b7-9fb8b93efeef",
   "metadata": {},
   "outputs": [],
   "source": [
    "# Q.1 \n",
    "\n",
    "class vechile:\n",
    "    \n",
    "    def __init__(ayush, average_of_vehicle, max_speed, name_of_vehicle):\n",
    "        ayush.average_of_vehicle=average_of_vehicle\n",
    "        ayush.max_speed=max_speed\n",
    "        ayush.name_of_vehicle=name_of_vehicle"
   ]
  },
  {
   "cell_type": "code",
   "execution_count": 2,
   "id": "0267530c-7914-4f57-b8a2-0f499e1ac373",
   "metadata": {},
   "outputs": [],
   "source": [
    "# Q.2 \n",
    "\n",
    "class car(vechile):\n",
    "    \n",
    "    def seating_capacity(ayush,capacity,):\n",
    "        ayush.capacity=capacity"
   ]
  },
  {
   "cell_type": "code",
   "execution_count": 3,
   "id": "e0689d2d-ef90-4771-8687-434a31e97e9e",
   "metadata": {},
   "outputs": [],
   "source": [
    "c=car(25,600,\"Bugatti Chiron\")"
   ]
  },
  {
   "cell_type": "code",
   "execution_count": 4,
   "id": "c326b5be-ec54-40cd-91d5-e61aa41c0435",
   "metadata": {},
   "outputs": [],
   "source": [
    "c.seating_capacity(2)"
   ]
  },
  {
   "cell_type": "code",
   "execution_count": 5,
   "id": "d0e85cf9-4814-48b7-bc37-ef3d0799775b",
   "metadata": {},
   "outputs": [
    {
     "data": {
      "text/plain": [
       "'Bugatti Chiron'"
      ]
     },
     "execution_count": 5,
     "metadata": {},
     "output_type": "execute_result"
    }
   ],
   "source": [
    "c.name_of_vehicle"
   ]
  },
  {
   "cell_type": "code",
   "execution_count": 6,
   "id": "d99bc584-0c0a-4ceb-9ad3-7f4ffcd244e3",
   "metadata": {},
   "outputs": [
    {
     "data": {
      "text/plain": [
       "2"
      ]
     },
     "execution_count": 6,
     "metadata": {},
     "output_type": "execute_result"
    }
   ],
   "source": [
    "c.capacity"
   ]
  },
  {
   "cell_type": "code",
   "execution_count": 7,
   "id": "3da188f2-a306-46e6-99d0-5319defff76a",
   "metadata": {},
   "outputs": [],
   "source": [
    "# Q.3 \n",
    "\n",
    "# When a class is derived from more than one base class it is called multiple Inheritance"
   ]
  },
  {
   "cell_type": "code",
   "execution_count": 8,
   "id": "21350a81-33ef-44af-9506-068d9f71860c",
   "metadata": {},
   "outputs": [],
   "source": [
    "class class_1:\n",
    "    def print_class_1(ayush):\n",
    "        print(\"This is class 1\")"
   ]
  },
  {
   "cell_type": "code",
   "execution_count": 9,
   "id": "aa2e9707-53ff-432f-9e92-790880e4b5df",
   "metadata": {},
   "outputs": [],
   "source": [
    "class class_2:\n",
    "    def print_class_2(ayush):\n",
    "        print(\"This is class 2\")"
   ]
  },
  {
   "cell_type": "code",
   "execution_count": 10,
   "id": "5f699fa4-132f-43b1-a092-6d6308310e8e",
   "metadata": {},
   "outputs": [],
   "source": [
    "class class_3(class_1,class_2):\n",
    "    def print_class_3(ayush):\n",
    "        print(\"This is class 3\")"
   ]
  },
  {
   "cell_type": "code",
   "execution_count": 11,
   "id": "d81726e7-70ef-4ab4-8439-4090cb0f91fe",
   "metadata": {},
   "outputs": [],
   "source": [
    "c3=class_3()"
   ]
  },
  {
   "cell_type": "code",
   "execution_count": 12,
   "id": "90071389-8507-4158-8500-d8eff3bbad95",
   "metadata": {},
   "outputs": [
    {
     "name": "stdout",
     "output_type": "stream",
     "text": [
      "This is class 1\n"
     ]
    }
   ],
   "source": [
    "c3.print_class_1()"
   ]
  },
  {
   "cell_type": "code",
   "execution_count": 13,
   "id": "82750c86-09f6-4683-8082-efab21435d06",
   "metadata": {},
   "outputs": [
    {
     "name": "stdout",
     "output_type": "stream",
     "text": [
      "This is class 2\n"
     ]
    }
   ],
   "source": [
    "c3.print_class_2()"
   ]
  },
  {
   "cell_type": "code",
   "execution_count": 14,
   "id": "8ad5e7ef-2669-44b3-9328-cf816138ccba",
   "metadata": {},
   "outputs": [
    {
     "name": "stdout",
     "output_type": "stream",
     "text": [
      "This is class 3\n"
     ]
    }
   ],
   "source": [
    "c3.print_class_3()"
   ]
  },
  {
   "cell_type": "code",
   "execution_count": 15,
   "id": "2d5e6824-1e9c-462d-af78-c2fd83615f01",
   "metadata": {},
   "outputs": [],
   "source": [
    "# Q.4 \n",
    "\n",
    "# Getters and setters are used to protect your data, particularly when creating classes.\n",
    "# A getter method returns the value.\n",
    "# A setter method sets or updates the value\n",
    "\n",
    "class pw:\n",
    "    \n",
    "    def __init__(ayush,num):\n",
    "        ayush.__num=num\n",
    "        \n",
    "    # Getter method\n",
    "    @property\n",
    "    def pw_access(ayush):\n",
    "        return ayush.__num\n",
    "    \n",
    "    # Setter method\n",
    "    @pw_access.setter\n",
    "    def pw_set(ayush,sett):\n",
    "        ayush.__num=sett"
   ]
  },
  {
   "cell_type": "code",
   "execution_count": 16,
   "id": "643b616a-c0d4-48a6-8cf9-6628074250f0",
   "metadata": {},
   "outputs": [
    {
     "name": "stdout",
     "output_type": "stream",
     "text": [
      "Inside Parent\n",
      "Inside Child\n"
     ]
    }
   ],
   "source": [
    "class Parent(): \n",
    "\t\n",
    "\tdef __init__(self): \n",
    "\t\tself.value = \"Inside Parent\"\n",
    "\t\t\n",
    "\tdef show(self): \n",
    "\t\tprint(self.value) \n",
    "\n",
    "class Child(Parent): \n",
    "\t\n",
    "\tdef __init__(self): \n",
    "\t\tself.value = \"Inside Child\"\n",
    "        \n",
    "\tdef show(self): \n",
    "\t\tprint(self.value) \n",
    "        \n",
    "obj1 = Parent() \n",
    "obj2 = Child() \n",
    "obj1.show() \n",
    "obj2.show() "
   ]
  }
 ],
 "metadata": {
  "kernelspec": {
   "display_name": "Python 3 (ipykernel)",
   "language": "python",
   "name": "python3"
  },
  "language_info": {
   "codemirror_mode": {
    "name": "ipython",
    "version": 3
   },
   "file_extension": ".py",
   "mimetype": "text/x-python",
   "name": "python",
   "nbconvert_exporter": "python",
   "pygments_lexer": "ipython3",
   "version": "3.10.8"
  }
 },
 "nbformat": 4,
 "nbformat_minor": 5
}
