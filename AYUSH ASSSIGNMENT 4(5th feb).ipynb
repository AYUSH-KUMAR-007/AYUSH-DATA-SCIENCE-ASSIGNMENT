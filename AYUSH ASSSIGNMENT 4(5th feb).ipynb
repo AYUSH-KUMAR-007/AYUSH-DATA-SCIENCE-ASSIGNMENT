{
 "cells": [
  {
   "cell_type": "code",
   "execution_count": 1,
   "id": "480aafb3-1469-4a60-b426-e52633210e7d",
   "metadata": {},
   "outputs": [],
   "source": [
    "# Q.1\n",
    "\n",
    "# Classes are user-defined data types that act as the blueprint for individual objects, attributes and methods. \n",
    "# Objects are instances of a class created with specifically defined data\n",
    "\n",
    "class class_name():\n",
    "    \n",
    "    def method_print(ayush):\n",
    "        print(\"this is print from class\")"
   ]
  },
  {
   "cell_type": "code",
   "execution_count": 2,
   "id": "ee0dd5d8-86f3-47ed-9398-1c811f4448f7",
   "metadata": {},
   "outputs": [],
   "source": [
    "c=class_name()"
   ]
  },
  {
   "cell_type": "code",
   "execution_count": 3,
   "id": "dfc44b4a-6643-4c8b-a114-96b61739be91",
   "metadata": {},
   "outputs": [
    {
     "name": "stdout",
     "output_type": "stream",
     "text": [
      "this is print from class\n"
     ]
    }
   ],
   "source": [
    "c.method_print()"
   ]
  },
  {
   "cell_type": "code",
   "execution_count": 4,
   "id": "9239a669-4de6-4478-a585-376aac8673cf",
   "metadata": {},
   "outputs": [],
   "source": [
    "# Q.2\n",
    "\n",
    "# The four pillars of OOPs are:-\n",
    "\n",
    "# 1. Polymorphism\n",
    "# 2. Encapsulation\n",
    "# 3. Inheritance\n",
    "# 4. Abstraction"
   ]
  },
  {
   "cell_type": "code",
   "execution_count": 5,
   "id": "67ce3206-15f3-4e3b-a9b4-86399a63d565",
   "metadata": {},
   "outputs": [],
   "source": [
    "# Q.3\n",
    "\n",
    "# The purpose of the __init__ method is to allow the class to set initial values for the attributes of an object when it is first created. \n",
    "\n",
    "class input():\n",
    "    \n",
    "    def __init__(ayush, a, b):\n",
    "        ayush.a=a\n",
    "        ayush.b=b"
   ]
  },
  {
   "cell_type": "code",
   "execution_count": 6,
   "id": "07f06350-b80f-44e7-95ad-98782e5accbc",
   "metadata": {},
   "outputs": [],
   "source": [
    "i=input(2,3)"
   ]
  },
  {
   "cell_type": "code",
   "execution_count": 7,
   "id": "aca706a1-d7ab-4653-9fbd-ad9bfd7e3535",
   "metadata": {},
   "outputs": [
    {
     "data": {
      "text/plain": [
       "2"
      ]
     },
     "execution_count": 7,
     "metadata": {},
     "output_type": "execute_result"
    }
   ],
   "source": [
    "i.a"
   ]
  },
  {
   "cell_type": "code",
   "execution_count": 8,
   "id": "9b9602c8-b379-4736-b8fb-fd1f735a76f2",
   "metadata": {},
   "outputs": [
    {
     "data": {
      "text/plain": [
       "3"
      ]
     },
     "execution_count": 8,
     "metadata": {},
     "output_type": "execute_result"
    }
   ],
   "source": [
    "i.b"
   ]
  },
  {
   "cell_type": "code",
   "execution_count": 9,
   "id": "83011c13-4f94-44f3-8964-c198e88c8a36",
   "metadata": {},
   "outputs": [],
   "source": [
    "# Q.4\n",
    "\n",
    " # “self” is used to access and manipulate the instance variables and methods within a class"
   ]
  },
  {
   "cell_type": "code",
   "execution_count": 10,
   "id": "9692f93f-96f2-4ce3-9fa9-dbe1eeba61bf",
   "metadata": {},
   "outputs": [],
   "source": [
    "# Q.5\n",
    "\n",
    "# Inheritance allows us to define a class that inherits all the methods and properties from another class.\n",
    "# Parent class is the class being inherited from, also called base class.\n",
    "# Child class is the class that inherits from another class, also called derived class.\n",
    "\n",
    "# Inheritance is of two types:\n",
    "# 1. Multiple Inheritance\n",
    "# 2. Multilevel Inheritance"
   ]
  },
  {
   "cell_type": "code",
   "execution_count": 11,
   "id": "6293b142-18ee-4d73-a554-33f53b8cb728",
   "metadata": {},
   "outputs": [],
   "source": [
    "# 1. Multilevel Inheritance"
   ]
  },
  {
   "cell_type": "code",
   "execution_count": 12,
   "id": "5753ab0d-dcc2-4160-81b8-65c2fbb525c7",
   "metadata": {},
   "outputs": [],
   "source": [
    "class class1 :\n",
    "    def test_class1(self) : \n",
    "        print(\"this is my class1 \" )"
   ]
  },
  {
   "cell_type": "code",
   "execution_count": 13,
   "id": "dad65f23-69a0-4930-930a-826f64e499ee",
   "metadata": {},
   "outputs": [],
   "source": [
    "class class2(class1) : \n",
    "    def test_class2(self) : \n",
    "        print(\"this is my class2\" )"
   ]
  },
  {
   "cell_type": "code",
   "execution_count": 14,
   "id": "04cb4c21-5050-43a1-977a-9451b6b62091",
   "metadata": {},
   "outputs": [],
   "source": [
    "class class3(class2) : \n",
    "    def test_class3(self) : \n",
    "        print(\"this is my class3 \")"
   ]
  },
  {
   "cell_type": "code",
   "execution_count": 15,
   "id": "abf9bd5d-9d64-4af1-aa45-888847ff5634",
   "metadata": {},
   "outputs": [],
   "source": [
    "obj=class3()"
   ]
  },
  {
   "cell_type": "code",
   "execution_count": 16,
   "id": "6f313a63-d7ed-48c1-9769-00876d9b7b8f",
   "metadata": {},
   "outputs": [
    {
     "name": "stdout",
     "output_type": "stream",
     "text": [
      "this is my class1 \n"
     ]
    }
   ],
   "source": [
    "obj.test_class1()"
   ]
  },
  {
   "cell_type": "code",
   "execution_count": 17,
   "id": "0786da6a-74f1-4b1c-b697-9a152d3815f8",
   "metadata": {},
   "outputs": [
    {
     "name": "stdout",
     "output_type": "stream",
     "text": [
      "this is my class2\n"
     ]
    }
   ],
   "source": [
    "obj.test_class2()"
   ]
  },
  {
   "cell_type": "code",
   "execution_count": 18,
   "id": "03783a9a-4698-4339-ade4-fe6c530d909c",
   "metadata": {},
   "outputs": [
    {
     "name": "stdout",
     "output_type": "stream",
     "text": [
      "this is my class3 \n"
     ]
    }
   ],
   "source": [
    "obj.test_class3()"
   ]
  },
  {
   "cell_type": "code",
   "execution_count": 19,
   "id": "8064553b-5b86-4e86-91a1-c83a0fad5450",
   "metadata": {},
   "outputs": [],
   "source": [
    "# 2. Multiple Inheritance"
   ]
  },
  {
   "cell_type": "code",
   "execution_count": 20,
   "id": "6ed80c5c-f3ea-4b8d-8588-cffec0077925",
   "metadata": {},
   "outputs": [],
   "source": [
    "class class1:\n",
    "    def test_class1(self) : \n",
    "        print(\"this is my class 1\" )"
   ]
  },
  {
   "cell_type": "code",
   "execution_count": 21,
   "id": "0eb3a107-9c2d-4464-aedd-6681052d0cdc",
   "metadata": {},
   "outputs": [],
   "source": [
    "class class2 :\n",
    "    def test_class2(self) : \n",
    "        print(\"this is my class 2\")"
   ]
  },
  {
   "cell_type": "code",
   "execution_count": 22,
   "id": "eef832af-7e58-4314-9a20-58aedbc79adf",
   "metadata": {},
   "outputs": [],
   "source": [
    "class class3 (class1 , class2) : \n",
    "    pass"
   ]
  },
  {
   "cell_type": "code",
   "execution_count": 23,
   "id": "2858005b-10e8-4b13-b625-df6fd75464b5",
   "metadata": {},
   "outputs": [],
   "source": [
    "obj_class3 = class3()"
   ]
  },
  {
   "cell_type": "code",
   "execution_count": 24,
   "id": "cc996aba-d390-45aa-bf31-0ace822fa0ce",
   "metadata": {},
   "outputs": [
    {
     "name": "stdout",
     "output_type": "stream",
     "text": [
      "this is my class 1\n"
     ]
    }
   ],
   "source": [
    "obj_class3.test_class1()"
   ]
  },
  {
   "cell_type": "code",
   "execution_count": 25,
   "id": "92d88be6-2de6-4baa-8949-a19f99977ac1",
   "metadata": {},
   "outputs": [
    {
     "name": "stdout",
     "output_type": "stream",
     "text": [
      "this is my class 2\n"
     ]
    }
   ],
   "source": [
    "obj_class3.test_class2()"
   ]
  }
 ],
 "metadata": {
  "kernelspec": {
   "display_name": "Python 3 (ipykernel)",
   "language": "python",
   "name": "python3"
  },
  "language_info": {
   "codemirror_mode": {
    "name": "ipython",
    "version": 3
   },
   "file_extension": ".py",
   "mimetype": "text/x-python",
   "name": "python",
   "nbconvert_exporter": "python",
   "pygments_lexer": "ipython3",
   "version": "3.10.8"
  }
 },
 "nbformat": 4,
 "nbformat_minor": 5
}
