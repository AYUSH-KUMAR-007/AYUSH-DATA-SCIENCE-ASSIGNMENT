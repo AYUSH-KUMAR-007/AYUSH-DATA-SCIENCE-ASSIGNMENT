{
 "cells": [
  {
   "cell_type": "code",
   "execution_count": 1,
   "id": "840bbfa0-7e55-49b3-93ec-604c574e6b7a",
   "metadata": {},
   "outputs": [
    {
     "data": {
      "text/plain": [
       "[1, 3, 5, 7, 9, 11, 13, 15, 17, 19, 21, 23, 25]"
      ]
     },
     "execution_count": 1,
     "metadata": {},
     "output_type": "execute_result"
    }
   ],
   "source": [
    "# Q.1 \n",
    "\n",
    "# def keyword is used to make a function\n",
    "\n",
    "def odd():\n",
    "    l=[]\n",
    "    for i in range(1,26,2):\n",
    "        l.append(i)\n",
    "    return l\n",
    "odd()"
   ]
  },
  {
   "cell_type": "code",
   "execution_count": 2,
   "id": "d6de8e0c-d192-4fd9-a78c-7c0844164fa1",
   "metadata": {},
   "outputs": [],
   "source": [
    "# Q.2\n",
    "\n",
    "# *args is used to take any no. of input and return all element in tuple.\n",
    "\n",
    "# **kwargs is used to take any no. of input and return all element in dictionary.\n",
    "\n",
    "def test1(*args):\n",
    "    return args\n",
    "def test2(**kwargs):\n",
    "    return kwargs"
   ]
  },
  {
   "cell_type": "code",
   "execution_count": 3,
   "id": "e6f11c2e-9040-454e-9f8d-94e1c1f7de67",
   "metadata": {},
   "outputs": [
    {
     "data": {
      "text/plain": [
       "(1, 23.45, [838, 78, 'PWSKILLS'])"
      ]
     },
     "execution_count": 3,
     "metadata": {},
     "output_type": "execute_result"
    }
   ],
   "source": [
    "test1(1,23.45,[838,78,\"PWSKILLS\"])"
   ]
  },
  {
   "cell_type": "code",
   "execution_count": 4,
   "id": "634caa8d-84ce-4c64-917d-9de38a2e9936",
   "metadata": {},
   "outputs": [
    {
     "data": {
      "text/plain": [
       "{'a': 1, 'b': (515+1515j), 'c': [5155, 251, 'PWSKILLS']}"
      ]
     },
     "execution_count": 4,
     "metadata": {},
     "output_type": "execute_result"
    }
   ],
   "source": [
    "test2(a=1,b=515+1515j,c=[5155,251,\"PWSKILLS\"])"
   ]
  },
  {
   "cell_type": "code",
   "execution_count": 5,
   "id": "aca4d7c3-cbeb-4dc5-bc78-3c5a769c52f9",
   "metadata": {},
   "outputs": [],
   "source": [
    "# Q.3\n",
    "\n",
    "# An iterator in Python is an object that is used to iterate over iterable objects like lists, tuples, dicts, and sets.\n",
    "\n",
    "# iter() fucntion is used to make iterable to an iterator.\n",
    "\n",
    "# next() is used to call the nest element of the iterator."
   ]
  },
  {
   "cell_type": "code",
   "execution_count": 6,
   "id": "5c56bee9-7cbb-474d-8b75-028aeecf1909",
   "metadata": {},
   "outputs": [],
   "source": [
    "l=[2,4,6,8,10,12,14,16,18,20]"
   ]
  },
  {
   "cell_type": "code",
   "execution_count": 7,
   "id": "2cc7fffb-e615-426a-89a6-1756d94d8565",
   "metadata": {},
   "outputs": [],
   "source": [
    "n=iter(l)"
   ]
  },
  {
   "cell_type": "code",
   "execution_count": 8,
   "id": "ec420f93-2860-4592-8662-e9d5271fb15b",
   "metadata": {},
   "outputs": [
    {
     "name": "stdout",
     "output_type": "stream",
     "text": [
      "2\n",
      "4\n",
      "6\n",
      "8\n",
      "10\n"
     ]
    }
   ],
   "source": [
    "for i in range (5):\n",
    "    print(next(n))"
   ]
  },
  {
   "cell_type": "code",
   "execution_count": 9,
   "id": "79b9d00c-dffe-43d6-ad8c-95922131b4ea",
   "metadata": {},
   "outputs": [
    {
     "name": "stdin",
     "output_type": "stream",
     "text": [
      "Enter number: 10\n"
     ]
    },
    {
     "name": "stdout",
     "output_type": "stream",
     "text": [
      "1\n",
      "2\n",
      "6\n",
      "24\n",
      "120\n",
      "720\n",
      "5040\n",
      "40320\n",
      "362880\n",
      "3628800\n"
     ]
    }
   ],
   "source": [
    "# Q.4\n",
    "\n",
    "# a generator function is used to generate the values and yeilds the values at the same time to reduce the time.\n",
    "\n",
    "# yield keyword is used to return the value without stoping the flow of the function.\n",
    "\n",
    "def test_fact1():\n",
    "    i,p=1,1\n",
    "    while(True):\n",
    "        p=p*i\n",
    "        i=i+1\n",
    "        yield p\n",
    "n=(int(input(\"Enter number:\")))\n",
    "test1=test_fact1()\n",
    "for i in range(n):\n",
    "    print(next(test1))"
   ]
  },
  {
   "cell_type": "code",
   "execution_count": 10,
   "id": "5e99032f-d163-4c15-bc2d-9faaa6d3b711",
   "metadata": {},
   "outputs": [
    {
     "name": "stdin",
     "output_type": "stream",
     "text": [
      "Enter number: 20\n"
     ]
    },
    {
     "name": "stdout",
     "output_type": "stream",
     "text": [
      "2\n",
      "3\n",
      "5\n",
      "7\n",
      "11\n",
      "13\n",
      "17\n",
      "19\n",
      "23\n",
      "29\n",
      "31\n",
      "37\n",
      "41\n",
      "43\n",
      "47\n",
      "53\n",
      "59\n",
      "61\n",
      "67\n",
      "71\n"
     ]
    }
   ],
   "source": [
    "# Q.5\n",
    "\n",
    "def test_prim():\n",
    "    i=0\n",
    "    while (True):\n",
    "        c=0\n",
    "        for j in range(1,i+1):\n",
    "            if(i%j==0):\n",
    "                c=c+1\n",
    "        if(c==2):\n",
    "            yield i\n",
    "        i=i+1\n",
    "            \n",
    "n=(int(input(\"Enter number:\")))\n",
    "test2=test_prim()\n",
    "for i in range(n):\n",
    "    print(next(test2))"
   ]
  },
  {
   "cell_type": "code",
   "execution_count": 11,
   "id": "fee6a3e2-7dc5-4fbb-a0ec-eed2f8edda59",
   "metadata": {},
   "outputs": [
    {
     "name": "stdout",
     "output_type": "stream",
     "text": [
      "0\n",
      "1\n",
      "1\n",
      "2\n",
      "3\n",
      "5\n",
      "8\n",
      "13\n",
      "21\n",
      "34\n"
     ]
    }
   ],
   "source": [
    "# Q.6\n",
    "\n",
    "def test_fib1():\n",
    "    a,b = 0,1\n",
    "    while True:\n",
    "        yield a \n",
    "        a,b = b , a+b\n",
    "fib = test_fib1()\n",
    "n=10\n",
    "for i in range(n):\n",
    "    print(next(fib))"
   ]
  },
  {
   "cell_type": "code",
   "execution_count": 12,
   "id": "397b1e8c-94e9-421c-84ce-3f53117a3fc1",
   "metadata": {},
   "outputs": [
    {
     "name": "stdout",
     "output_type": "stream",
     "text": [
      "['p', 'w', 's', 'k', 'i', 'l', 'l', 's']\n"
     ]
    }
   ],
   "source": [
    "# Q.7\n",
    "\n",
    "s=\"pwskills\"\n",
    "l=[]\n",
    "for i in s:\n",
    "    l.append(i)\n",
    "print(l)"
   ]
  },
  {
   "cell_type": "code",
   "execution_count": 13,
   "id": "61ac525d-3651-4db0-90cb-24365d0a937e",
   "metadata": {},
   "outputs": [
    {
     "name": "stdin",
     "output_type": "stream",
     "text": [
      "Enter number: 12421\n"
     ]
    },
    {
     "name": "stdout",
     "output_type": "stream",
     "text": [
      "Pallindrome Number: 12421\n"
     ]
    }
   ],
   "source": [
    "# Q.8\n",
    "\n",
    "n=int(input(\"Enter number:\"))\n",
    "dup=n\n",
    "s=0\n",
    "while(dup!=0):\n",
    "    r=dup%10\n",
    "    dup=dup//10\n",
    "    s=s*10+r\n",
    "if s==n :\n",
    "    print(\"Pallindrome Number:\",s)\n",
    "else:\n",
    "    print(\"Not a Pallindrome Number:\",s)"
   ]
  },
  {
   "cell_type": "code",
   "execution_count": 14,
   "id": "6cec84b5-14cf-48d9-ae34-fea1f456324e",
   "metadata": {},
   "outputs": [
    {
     "name": "stdout",
     "output_type": "stream",
     "text": [
      "[1, 3, 5, 7, 9, 11, 13, 15, 17, 19, 21, 23, 25, 27, 29, 31, 33, 35, 37, 39, 41, 43, 45, 47, 49, 51, 53, 55, 57, 59, 61, 63, 65, 67, 69, 71, 73, 75, 77, 79, 81, 83, 85, 87, 89, 91, 93, 95, 97, 99]\n"
     ]
    }
   ],
   "source": [
    "# Q.9\n",
    "\n",
    "l=[]\n",
    "for i in range (1,101,2):\n",
    "    l.append(i)\n",
    "print(l)"
   ]
  },
  {
   "cell_type": "code",
   "execution_count": null,
   "id": "508e4138-b7cc-4341-b6db-d3251f2730df",
   "metadata": {},
   "outputs": [],
   "source": []
  }
 ],
 "metadata": {
  "kernelspec": {
   "display_name": "Python 3 (ipykernel)",
   "language": "python",
   "name": "python3"
  },
  "language_info": {
   "codemirror_mode": {
    "name": "ipython",
    "version": 3
   },
   "file_extension": ".py",
   "mimetype": "text/x-python",
   "name": "python",
   "nbconvert_exporter": "python",
   "pygments_lexer": "ipython3",
   "version": "3.10.8"
  }
 },
 "nbformat": 4,
 "nbformat_minor": 5
}
