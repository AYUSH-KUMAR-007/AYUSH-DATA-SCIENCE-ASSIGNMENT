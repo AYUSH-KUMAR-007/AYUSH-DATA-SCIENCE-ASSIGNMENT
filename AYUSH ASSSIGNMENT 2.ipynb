{
 "cells": [
  {
   "cell_type": "code",
   "execution_count": 3,
   "id": "ce5b5d42-c4ac-4a53-b5c4-e0cacb9ab969",
   "metadata": {},
   "outputs": [],
   "source": [
    "# Q.1\n",
    "\n",
    "# # ctrl+/ is comand for comment\n",
    "# comment are of tow type\n",
    "# single line and multi line"
   ]
  },
  {
   "cell_type": "code",
   "execution_count": 4,
   "id": "cd974119-bca2-4aa5-90ff-f183844533d5",
   "metadata": {},
   "outputs": [],
   "source": [
    "# Q.2\n",
    "\n",
    "# variables store value which has a data type\n",
    "# we can declre and assign vale to a variable by using \"=\"\n",
    "a=1\n",
    "s=\"pwskills\"\n",
    "b=48.5+845j"
   ]
  },
  {
   "cell_type": "code",
   "execution_count": 24,
   "id": "005c5063-5587-4214-bf87-e9936b8f5178",
   "metadata": {},
   "outputs": [
    {
     "data": {
      "text/plain": [
       "str"
      ]
     },
     "execution_count": 24,
     "metadata": {},
     "output_type": "execute_result"
    }
   ],
   "source": [
    "# Q.3\n",
    "\n",
    "# # to convert one datatype to another\n",
    "# # <datatype>(<variable>)\n",
    "a=1\n",
    "b=str(a)\n",
    "type(b)"
   ]
  },
  {
   "cell_type": "code",
   "execution_count": 25,
   "id": "b5e15f90-ba2e-4bf3-9817-9e84b6982a51",
   "metadata": {},
   "outputs": [],
   "source": [
    "# Q.4\n",
    "\n",
    "# to write and execute a Python script from the command line\n",
    "# open a command line and type the word python followed by the path to your script file \n"
   ]
  },
  {
   "cell_type": "code",
   "execution_count": 36,
   "id": "dc18ca3b-7d82-44bc-b5e2-b2f6885d85a1",
   "metadata": {},
   "outputs": [
    {
     "name": "stdout",
     "output_type": "stream",
     "text": [
      "[2, 3]\n"
     ]
    }
   ],
   "source": [
    "# Q.5\n",
    "\n",
    "my_list = [1, 2, 3, 4, 5]\n",
    "sub_list=[]\n",
    "sub_list=my_list[1:3]\n",
    "print(sub_list)"
   ]
  },
  {
   "cell_type": "code",
   "execution_count": 41,
   "id": "8efa2fe6-c3b6-48dc-af9c-ca3c75269bd2",
   "metadata": {},
   "outputs": [
    {
     "name": "stdout",
     "output_type": "stream",
     "text": [
      "(115.516+851.12j)\n",
      "115.516\n",
      "851.12\n"
     ]
    }
   ],
   "source": [
    "# Q.6\n",
    "\n",
    "# A complex number consists of real part and imaginary part\n",
    "# ex:-\n",
    "i=115.516+851.12j\n",
    "print(i)\n",
    "print(i.real)\n",
    "print(i.imag)\n"
   ]
  },
  {
   "cell_type": "code",
   "execution_count": 43,
   "id": "4d8ce776-59df-4775-a68b-0af58c932759",
   "metadata": {},
   "outputs": [],
   "source": [
    "# Q.7\n",
    "\n",
    "age=25"
   ]
  },
  {
   "cell_type": "code",
   "execution_count": 45,
   "id": "9e8b59e3-abe0-48d6-aeca-16d110d7efe6",
   "metadata": {},
   "outputs": [
    {
     "data": {
      "text/plain": [
       "float"
      ]
     },
     "execution_count": 45,
     "metadata": {},
     "output_type": "execute_result"
    }
   ],
   "source": [
    "# Q.8\n",
    "\n",
    "price=9.99\n",
    "type(price)\n",
    "# datatype=float"
   ]
  },
  {
   "cell_type": "code",
   "execution_count": 46,
   "id": "70052115-1741-4649-96d2-7c0e392a0022",
   "metadata": {},
   "outputs": [
    {
     "name": "stdout",
     "output_type": "stream",
     "text": [
      "ayush kumar\n"
     ]
    }
   ],
   "source": [
    "# Q.9\n",
    "\n",
    "name=\"ayush kumar\"\n",
    "print(name)"
   ]
  },
  {
   "cell_type": "code",
   "execution_count": 49,
   "id": "06163b71-33af-4c00-80d1-3093c000da15",
   "metadata": {},
   "outputs": [
    {
     "name": "stdout",
     "output_type": "stream",
     "text": [
      "World\n"
     ]
    }
   ],
   "source": [
    "# Q.10\n",
    "\n",
    "st=\"Hello, World!\"\n",
    "ss=st[7:len(st)-1]\n",
    "print(ss)"
   ]
  },
  {
   "cell_type": "code",
   "execution_count": 51,
   "id": "80e808ca-5139-4672-8202-422788307e86",
   "metadata": {},
   "outputs": [],
   "source": [
    "# Q.11\n",
    "\n",
    "is_student=True"
   ]
  }
 ],
 "metadata": {
  "kernelspec": {
   "display_name": "Python 3 (ipykernel)",
   "language": "python",
   "name": "python3"
  },
  "language_info": {
   "codemirror_mode": {
    "name": "ipython",
    "version": 3
   },
   "file_extension": ".py",
   "mimetype": "text/x-python",
   "name": "python",
   "nbconvert_exporter": "python",
   "pygments_lexer": "ipython3",
   "version": "3.10.8"
  }
 },
 "nbformat": 4,
 "nbformat_minor": 5
}
