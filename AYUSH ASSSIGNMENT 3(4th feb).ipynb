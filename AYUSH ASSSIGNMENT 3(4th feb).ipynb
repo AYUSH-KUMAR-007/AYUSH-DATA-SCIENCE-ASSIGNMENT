{
 "cells": [
  {
   "cell_type": "code",
   "execution_count": 1,
   "id": "e0384bea-9b38-4e8b-9f5a-1f935434214f",
   "metadata": {},
   "outputs": [
    {
     "name": "stdout",
     "output_type": "stream",
     "text": [
      "[('Virat Kohli', 24936), ('Jack Kallis', 25534), ('Ricky Ponting', 27483), ('Sachin Tendulkar', 34357)]\n"
     ]
    }
   ],
   "source": [
    "# Q.1\n",
    "\n",
    "l=[('Sachin Tendulkar', 34357), ('Ricky Ponting', 27483), ('Jack Kallis', 25534), ('Virat Kohli', 24936)]\n",
    "l1=sorted(l, key = lambda x : x[1],reverse=False)\n",
    "print(l1)"
   ]
  },
  {
   "cell_type": "code",
   "execution_count": 2,
   "id": "f1c2e2f5-230b-4370-9a6a-c2bf0d11e288",
   "metadata": {},
   "outputs": [
    {
     "name": "stdout",
     "output_type": "stream",
     "text": [
      "1\n",
      "4\n",
      "9\n",
      "16\n",
      "25\n",
      "36\n",
      "49\n",
      "64\n",
      "81\n",
      "100\n"
     ]
    }
   ],
   "source": [
    "# Q.2\n",
    "\n",
    "l=[1,2,3,4,5,6,7,8,9,10]\n",
    "sq=lambda n: n*n\n",
    "for i in l:\n",
    "    print(sq(i))"
   ]
  },
  {
   "cell_type": "code",
   "execution_count": 3,
   "id": "d73381de-3e58-4d53-b78d-8f7df4dc459c",
   "metadata": {},
   "outputs": [
    {
     "data": {
      "text/plain": [
       "('1', '2', '3', '4', '5', '6', '7', '8', '9', '10')"
      ]
     },
     "execution_count": 3,
     "metadata": {},
     "output_type": "execute_result"
    }
   ],
   "source": [
    "# Q.3\n",
    "\n",
    "l=[1, 2, 3, 4, 5, 6, 7, 8, 9, 10]\n",
    "tuple(map(lambda x : str(x) , l))"
   ]
  },
  {
   "cell_type": "code",
   "execution_count": 4,
   "id": "dc476139-0ad3-48b4-8089-03f4ed873181",
   "metadata": {},
   "outputs": [
    {
     "name": "stdout",
     "output_type": "stream",
     "text": [
      "[1, 2, 3, 4, 5, 6, 7, 8, 9, 10, 11, 12, 13, 14, 15, 16, 17, 18, 19, 20, 21, 22, 23, 24, 25]\n"
     ]
    },
    {
     "data": {
      "text/plain": [
       "15511210043330985984000000"
      ]
     },
     "execution_count": 4,
     "metadata": {},
     "output_type": "execute_result"
    }
   ],
   "source": [
    "# Q.4\n",
    "\n",
    "from functools import  reduce\n",
    "\n",
    "l=[]\n",
    "n=25\n",
    "for i in range(1,n+1):\n",
    "    l.append(i)\n",
    "print(l)\n",
    "reduce(lambda x ,y : x*y , l)"
   ]
  },
  {
   "cell_type": "code",
   "execution_count": 5,
   "id": "c8790036-37f3-49bd-aa93-c325f852b6f5",
   "metadata": {},
   "outputs": [
    {
     "name": "stdout",
     "output_type": "stream",
     "text": [
      "6\n",
      "60\n",
      "90\n",
      "120\n"
     ]
    }
   ],
   "source": [
    "# Q.5\n",
    "\n",
    "l=[2, 3, 6, 9, 27, 60, 90, 120, 55, 46]\n",
    "filt=filter(lambda x : x%6==0 , l)\n",
    "for i in filt:\n",
    "    print(i)"
   ]
  },
  {
   "cell_type": "code",
   "execution_count": 6,
   "id": "a0ab5dae-1df8-4b06-ab0e-1616950845ed",
   "metadata": {},
   "outputs": [
    {
     "name": "stdout",
     "output_type": "stream",
     "text": [
      "php\n",
      "aba\n",
      "radar\n",
      "level\n"
     ]
    }
   ],
   "source": [
    "# Q.6\n",
    "\n",
    "def rev(s):\n",
    "    st=\"\"\n",
    "    for i in s:\n",
    "        st=i+st\n",
    "    return st\n",
    "    \n",
    "l=['python', 'php', 'aba', 'radar', 'level']\n",
    "for i in list(filter(lambda x:rev(x)==x,l)):\n",
    "    print(i)"
   ]
  }
 ],
 "metadata": {
  "kernelspec": {
   "display_name": "Python 3 (ipykernel)",
   "language": "python",
   "name": "python3"
  },
  "language_info": {
   "codemirror_mode": {
    "name": "ipython",
    "version": 3
   },
   "file_extension": ".py",
   "mimetype": "text/x-python",
   "name": "python",
   "nbconvert_exporter": "python",
   "pygments_lexer": "ipython3",
   "version": "3.10.8"
  }
 },
 "nbformat": 4,
 "nbformat_minor": 5
}
