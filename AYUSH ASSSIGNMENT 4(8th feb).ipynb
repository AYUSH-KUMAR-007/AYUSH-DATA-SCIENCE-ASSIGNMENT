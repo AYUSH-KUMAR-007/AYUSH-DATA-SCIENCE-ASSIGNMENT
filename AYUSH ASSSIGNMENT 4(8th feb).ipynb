{
 "cells": [
  {
   "cell_type": "code",
   "execution_count": 1,
   "id": "9087379f-5ce0-4a4c-ab29-82af21739626",
   "metadata": {},
   "outputs": [],
   "source": [
    "# Q.1\n",
    "\n",
    "# Abstraction is a fundamental concept that allows us to simplify complex concepts and focus on the essential details\n",
    "\n",
    "import abc\n",
    "class student:\n",
    "    @abc.abstractmethod\n",
    "    def name(self):\n",
    "        pass\n",
    "    @abc.abstractmethod\n",
    "    def age(self):\n",
    "        pass"
   ]
  },
  {
   "cell_type": "code",
   "execution_count": 2,
   "id": "f3f7fff5-26af-4be7-b71a-86028245f65c",
   "metadata": {},
   "outputs": [],
   "source": [
    "class ayush(student):\n",
    "    def name(self):\n",
    "        print(\"My name is Ayush\")"
   ]
  },
  {
   "cell_type": "code",
   "execution_count": 3,
   "id": "57273db8-90fa-4dac-9dc1-d74aa51130f4",
   "metadata": {},
   "outputs": [],
   "source": [
    "class yash(student):\n",
    "    def age(self):\n",
    "        print(\"My age is 20 year\")"
   ]
  },
  {
   "cell_type": "code",
   "execution_count": 4,
   "id": "0b701aa6-23b8-424d-9395-1dce7d02b45e",
   "metadata": {},
   "outputs": [
    {
     "name": "stdout",
     "output_type": "stream",
     "text": [
      "My name is Ayush\n"
     ]
    }
   ],
   "source": [
    "a=ayush()\n",
    "a.name()"
   ]
  },
  {
   "cell_type": "code",
   "execution_count": 5,
   "id": "89432211-911f-4be4-9972-fcc60001ca9e",
   "metadata": {},
   "outputs": [
    {
     "name": "stdout",
     "output_type": "stream",
     "text": [
      "My age is 20 year\n"
     ]
    }
   ],
   "source": [
    "y=yash()\n",
    "y.age()"
   ]
  },
  {
   "cell_type": "code",
   "execution_count": 6,
   "id": "507a8b2e-4f76-44b9-9fdc-a23a992e52ec",
   "metadata": {},
   "outputs": [],
   "source": [
    "# Q.2\n",
    "\n",
    "# Abstraction is a design level process and it is used to reduce the complexity at the designing stage of a project.\n",
    "# Encapsulation is an implementation level process, and it is used to provide privacy and maintain control over the transparency of data at the implementation stage of a project\n",
    "\n",
    "# Encapsulation\n",
    "\n",
    "class student:\n",
    "    \n",
    "    def __init__(ayush,name,age):\n",
    "        ayush.__name=name\n",
    "        ayush.__age=age\n",
    "\n",
    "# Abstraction\n",
    "\n",
    "import abc\n",
    "class car:\n",
    "    @abc.abstractmethod\n",
    "    def model(self):\n",
    "        pass\n"
   ]
  },
  {
   "cell_type": "code",
   "execution_count": 7,
   "id": "3bad2c5a-9e99-44cc-b4a8-6ecdd510ae59",
   "metadata": {},
   "outputs": [],
   "source": [
    "# Q.3\n",
    "\n",
    "# abc module provides the infrastructure for defining abstract base classes (ABCs) in Python\n",
    "# We cannot create abstract classes directly in Python, so Python provides a module called abc that provides the infrastructure for defining the base of Abstract Base Classes(ABC)"
   ]
  },
  {
   "cell_type": "code",
   "execution_count": 8,
   "id": "35b633b8-9c33-48a8-8db9-e6a7ddd20ea5",
   "metadata": {},
   "outputs": [],
   "source": [
    "# Q.4\n",
    "\n",
    "# We can achieve data abstraction through Abstract classes and interfaces"
   ]
  },
  {
   "cell_type": "code",
   "execution_count": 9,
   "id": "34e14e4d-4094-453c-8261-dbbdb233b888",
   "metadata": {},
   "outputs": [],
   "source": [
    "# Q.5\n",
    "\n",
    "# We cannot create an instance of an abstract class directly\n",
    "# If we try to create an instance of an abstract class it will result in a TypeError"
   ]
  }
 ],
 "metadata": {
  "kernelspec": {
   "display_name": "Python 3 (ipykernel)",
   "language": "python",
   "name": "python3"
  },
  "language_info": {
   "codemirror_mode": {
    "name": "ipython",
    "version": 3
   },
   "file_extension": ".py",
   "mimetype": "text/x-python",
   "name": "python",
   "nbconvert_exporter": "python",
   "pygments_lexer": "ipython3",
   "version": "3.10.8"
  }
 },
 "nbformat": 4,
 "nbformat_minor": 5
}
