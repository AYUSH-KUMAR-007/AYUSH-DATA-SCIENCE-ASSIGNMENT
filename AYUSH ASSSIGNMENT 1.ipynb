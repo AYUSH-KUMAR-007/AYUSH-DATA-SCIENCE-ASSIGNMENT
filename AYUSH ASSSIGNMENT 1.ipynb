{
 "cells": [
  {
   "cell_type": "code",
   "execution_count": 1,
   "id": "ee237caf-a0dc-4d84-82cf-e4ddaeca46c6",
   "metadata": {},
   "outputs": [],
   "source": [
    "# Q1\n",
    "st=\"AYUSH\"\n",
    "list=[1,2,\"ayush kumar\"]\n",
    "fl=12.25\n",
    "tuple=(1,2,3,\"Ayush Kumar\",\"pw skils\")"
   ]
  },
  {
   "cell_type": "code",
   "execution_count": 2,
   "id": "ff065213-c326-475b-b0ee-fa9a0524def7",
   "metadata": {},
   "outputs": [],
   "source": [
    "# Q2"
   ]
  },
  {
   "cell_type": "code",
   "execution_count": 3,
   "id": "a7485f00-4acc-4100-a7f3-224303160ae1",
   "metadata": {},
   "outputs": [],
   "source": [
    "var1 = ' '\n",
    "# String"
   ]
  },
  {
   "cell_type": "code",
   "execution_count": 4,
   "id": "7a205e9d-15a4-4b29-a3fc-ccb9b380778c",
   "metadata": {},
   "outputs": [
    {
     "data": {
      "text/plain": [
       "str"
      ]
     },
     "execution_count": 4,
     "metadata": {},
     "output_type": "execute_result"
    }
   ],
   "source": [
    "type(var1)"
   ]
  },
  {
   "cell_type": "code",
   "execution_count": 5,
   "id": "ffe59a66-d5e0-40e4-8d1b-64e0959b9db8",
   "metadata": {},
   "outputs": [],
   "source": [
    "var2 = '[ DS , ML , Python]'\n",
    "# String"
   ]
  },
  {
   "cell_type": "code",
   "execution_count": 6,
   "id": "b8bbf493-9d20-45bc-b77d-d4633dbedf17",
   "metadata": {},
   "outputs": [
    {
     "data": {
      "text/plain": [
       "str"
      ]
     },
     "execution_count": 6,
     "metadata": {},
     "output_type": "execute_result"
    }
   ],
   "source": [
    "type(var2)"
   ]
  },
  {
   "cell_type": "code",
   "execution_count": 7,
   "id": "bea65348-a67d-4141-94c2-dc91e2fa12a6",
   "metadata": {},
   "outputs": [],
   "source": [
    "var3 = [ 'DS' , 'ML' , 'Python']\n",
    "# list"
   ]
  },
  {
   "cell_type": "code",
   "execution_count": 8,
   "id": "036d863f-a3e2-4578-8385-42662a82a2a2",
   "metadata": {},
   "outputs": [
    {
     "data": {
      "text/plain": [
       "list"
      ]
     },
     "execution_count": 8,
     "metadata": {},
     "output_type": "execute_result"
    }
   ],
   "source": [
    "type(var3)"
   ]
  },
  {
   "cell_type": "code",
   "execution_count": 9,
   "id": "f5bcd7d3-fef1-45c4-b37e-6fc5843c3885",
   "metadata": {},
   "outputs": [],
   "source": [
    "var4 = 1.\n",
    "# float"
   ]
  },
  {
   "cell_type": "code",
   "execution_count": 10,
   "id": "d1efb279-1932-4edd-8cd7-9006e16ad148",
   "metadata": {},
   "outputs": [
    {
     "data": {
      "text/plain": [
       "float"
      ]
     },
     "execution_count": 10,
     "metadata": {},
     "output_type": "execute_result"
    }
   ],
   "source": [
    "type(var4)"
   ]
  },
  {
   "cell_type": "code",
   "execution_count": 11,
   "id": "fe8ca964-db4b-436c-92d6-53370c89e88e",
   "metadata": {},
   "outputs": [
    {
     "data": {
      "text/plain": [
       "2.2222222222222223"
      ]
     },
     "execution_count": 11,
     "metadata": {},
     "output_type": "execute_result"
    }
   ],
   "source": [
    "20/9"
   ]
  },
  {
   "cell_type": "code",
   "execution_count": 12,
   "id": "f6d3979b-4234-4e5a-8c16-3486bc9f211f",
   "metadata": {},
   "outputs": [
    {
     "data": {
      "text/plain": [
       "6"
      ]
     },
     "execution_count": 12,
     "metadata": {},
     "output_type": "execute_result"
    }
   ],
   "source": [
    "20%7"
   ]
  },
  {
   "cell_type": "code",
   "execution_count": 13,
   "id": "0394a33c-0b85-4b87-92ee-3129de00520c",
   "metadata": {},
   "outputs": [
    {
     "data": {
      "text/plain": [
       "6"
      ]
     },
     "execution_count": 13,
     "metadata": {},
     "output_type": "execute_result"
    }
   ],
   "source": [
    "45//7"
   ]
  },
  {
   "cell_type": "code",
   "execution_count": 14,
   "id": "5635644e-83fa-4bd7-a19e-577bf0b65a99",
   "metadata": {},
   "outputs": [
    {
     "data": {
      "text/plain": [
       "8"
      ]
     },
     "execution_count": 14,
     "metadata": {},
     "output_type": "execute_result"
    }
   ],
   "source": [
    "2**3"
   ]
  },
  {
   "cell_type": "code",
   "execution_count": 15,
   "id": "bbcfc45b-0d3d-41ac-a776-6736449b91cf",
   "metadata": {},
   "outputs": [
    {
     "name": "stdout",
     "output_type": "stream",
     "text": [
      "1\n",
      "<class 'int'>\n",
      "34.6\n",
      "<class 'float'>\n",
      "ayush kumar\n",
      "<class 'str'>\n",
      "False\n",
      "<class 'bool'>\n",
      "45\n",
      "<class 'int'>\n",
      "pwskills\n",
      "<class 'str'>\n",
      "(36+69j)\n",
      "<class 'complex'>\n",
      "90.87\n",
      "<class 'float'>\n",
      "(89+56j)\n",
      "<class 'complex'>\n",
      "True\n",
      "<class 'bool'>\n"
     ]
    }
   ],
   "source": [
    "list=[1,34.6,'ayush kumar',False,45,'pwskills',36+69j,90.87,89+56j,True]\n",
    "for i in list :\n",
    "    print(i)\n",
    "    print(type(i))"
   ]
  },
  {
   "cell_type": "code",
   "execution_count": 16,
   "id": "f811ce31-55f8-44f0-841c-2ee6e7e87327",
   "metadata": {},
   "outputs": [
    {
     "name": "stdout",
     "output_type": "stream",
     "text": [
      "A is divisible B:\n",
      "1\n"
     ]
    }
   ],
   "source": [
    "A=14\n",
    "B = 2\n",
    "count = 0\n",
    "while B <= A :\n",
    "    if A%B==0:\n",
    "        A/=B\n",
    "        count+=1\n",
    "    else :\n",
    "        break\n",
    "\n",
    "if count ==0:\n",
    "    print(\"A is not divisible B:\")\n",
    "else:\n",
    "    print(\"A is divisible B:\")\n",
    "    print(count)"
   ]
  },
  {
   "cell_type": "code",
   "execution_count": 22,
   "id": "5956f17f-87b6-4cf6-9346-cacbd81e2bbe",
   "metadata": {},
   "outputs": [
    {
     "name": "stdout",
     "output_type": "stream",
     "text": [
      "1 \t : Not divisible by 3\n",
      "2 \t : Not divisible by 3\n",
      "3 \t : Divisible by 3\n",
      "4 \t : Not divisible by 3\n",
      "5 \t : Not divisible by 3\n",
      "6 \t : Divisible by 3\n",
      "7 \t : Not divisible by 3\n",
      "8 \t : Not divisible by 3\n",
      "9 \t : Divisible by 3\n",
      "10 \t : Not divisible by 3\n",
      "11 \t : Not divisible by 3\n",
      "12 \t : Divisible by 3\n",
      "13 \t : Not divisible by 3\n",
      "14 \t : Not divisible by 3\n",
      "15 \t : Divisible by 3\n",
      "16 \t : Not divisible by 3\n",
      "17 \t : Not divisible by 3\n",
      "18 \t : Divisible by 3\n",
      "19 \t : Not divisible by 3\n",
      "20 \t : Not divisible by 3\n",
      "21 \t : Divisible by 3\n",
      "22 \t : Not divisible by 3\n",
      "23 \t : Not divisible by 3\n",
      "24 \t : Divisible by 3\n",
      "25 \t : Not divisible by 3\n"
     ]
    }
   ],
   "source": [
    "list1=range(1,26)\n",
    "for i in list1:\n",
    "    if i%3==0:\n",
    "        print(i,\"\\t\",\": Divisible by 3\")\n",
    "    else:\n",
    "        print(i,\"\\t\",\": Not divisible by 3\")"
   ]
  },
  {
   "cell_type": "code",
   "execution_count": 23,
   "id": "07606b89-77aa-44be-920d-e257cf93a2f2",
   "metadata": {},
   "outputs": [],
   "source": [
    "list2=[1,29+69j,3.25,4,\"PWS\",67]\n",
    "n=\"Ayush\""
   ]
  },
  {
   "cell_type": "code",
   "execution_count": 24,
   "id": "dce5afa1-10a3-4d2e-8a20-fdbcf6c38f4e",
   "metadata": {},
   "outputs": [],
   "source": [
    "list2[3]='ayush'"
   ]
  },
  {
   "cell_type": "code",
   "execution_count": 25,
   "id": "28e3250d-5fe4-417a-89a4-9f22c65859f7",
   "metadata": {},
   "outputs": [
    {
     "data": {
      "text/plain": [
       "[1, (29+69j), 3.25, 'ayush', 'PWS', 67]"
      ]
     },
     "execution_count": 25,
     "metadata": {},
     "output_type": "execute_result"
    }
   ],
   "source": [
    "list2"
   ]
  },
  {
   "cell_type": "code",
   "execution_count": 26,
   "id": "fcc39dc8-bcb9-4eb9-9b8c-ac13f17f82d5",
   "metadata": {},
   "outputs": [
    {
     "ename": "TypeError",
     "evalue": "'str' object does not support item assignment",
     "output_type": "error",
     "traceback": [
      "\u001b[0;31m---------------------------------------------------------------------------\u001b[0m",
      "\u001b[0;31mTypeError\u001b[0m                                 Traceback (most recent call last)",
      "Cell \u001b[0;32mIn[26], line 1\u001b[0m\n\u001b[0;32m----> 1\u001b[0m \u001b[43mn\u001b[49m\u001b[43m[\u001b[49m\u001b[38;5;241;43m3\u001b[39;49m\u001b[43m]\u001b[49m\u001b[38;5;241m=\u001b[39m\u001b[38;5;124m'\u001b[39m\u001b[38;5;124mk\u001b[39m\u001b[38;5;124m'\u001b[39m\n",
      "\u001b[0;31mTypeError\u001b[0m: 'str' object does not support item assignment"
     ]
    }
   ],
   "source": [
    "n[3]='k'"
   ]
  },
  {
   "cell_type": "code",
   "execution_count": null,
   "id": "4447b554-4163-4b1e-9c59-d213f8fa320b",
   "metadata": {},
   "outputs": [],
   "source": []
  }
 ],
 "metadata": {
  "kernelspec": {
   "display_name": "Python 3 (ipykernel)",
   "language": "python",
   "name": "python3"
  },
  "language_info": {
   "codemirror_mode": {
    "name": "ipython",
    "version": 3
   },
   "file_extension": ".py",
   "mimetype": "text/x-python",
   "name": "python",
   "nbconvert_exporter": "python",
   "pygments_lexer": "ipython3",
   "version": "3.10.8"
  }
 },
 "nbformat": 4,
 "nbformat_minor": 5
}
